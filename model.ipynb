{
 "cells": [
  {
   "cell_type": "markdown",
   "id": "5ed7d816-4753-44fd-b9e9-c9f41e93abeb",
   "metadata": {},
   "source": [
    "# Modeling the energy production and consumption"
   ]
  },
  {
   "cell_type": "code",
   "execution_count": 57,
   "id": "433dcfe7-7f2f-4785-ad9a-d9eb9ddc196a",
   "metadata": {},
   "outputs": [],
   "source": [
    "import numpy as np\n",
    "import pandas as pd\n",
    "import matplotlib.pyplot as plt\n",
    "\n",
    "from sklearn.model_selection import train_test_split\n",
    "from sklearn.preprocessing import StandardScaler\n",
    "\n",
    "import keras\n",
    "from keras.models import Sequential\n",
    "from keras.layers import Dense, Input"
   ]
  },
  {
   "cell_type": "code",
   "execution_count": 34,
   "id": "b07de41d-f9ab-429a-89b8-bd40d82aa021",
   "metadata": {},
   "outputs": [],
   "source": [
    "df = pd.read_csv(\"data_clean.csv\")"
   ]
  },
  {
   "cell_type": "code",
   "execution_count": 35,
   "id": "f800ef24-9a08-4974-8c33-9a505b1896f2",
   "metadata": {},
   "outputs": [
    {
     "data": {
      "text/html": [
       "<div>\n",
       "<style scoped>\n",
       "    .dataframe tbody tr th:only-of-type {\n",
       "        vertical-align: middle;\n",
       "    }\n",
       "\n",
       "    .dataframe tbody tr th {\n",
       "        vertical-align: top;\n",
       "    }\n",
       "\n",
       "    .dataframe thead th {\n",
       "        text-align: right;\n",
       "    }\n",
       "</style>\n",
       "<table border=\"1\" class=\"dataframe\">\n",
       "  <thead>\n",
       "    <tr style=\"text-align: right;\">\n",
       "      <th></th>\n",
       "      <th>is_consumption</th>\n",
       "      <th>eic_count</th>\n",
       "      <th>installed_capacity</th>\n",
       "      <th>day</th>\n",
       "      <th>weekday</th>\n",
       "      <th>month</th>\n",
       "      <th>year</th>\n",
       "      <th>sin(dayofyear)</th>\n",
       "      <th>cos(dayofyear)</th>\n",
       "      <th>sin(hour)</th>\n",
       "      <th>cos(hour)</th>\n",
       "      <th>target</th>\n",
       "    </tr>\n",
       "  </thead>\n",
       "  <tbody>\n",
       "    <tr>\n",
       "      <th>0</th>\n",
       "      <td>0</td>\n",
       "      <td>6.0</td>\n",
       "      <td>324.2</td>\n",
       "      <td>3</td>\n",
       "      <td>5</td>\n",
       "      <td>9</td>\n",
       "      <td>2021</td>\n",
       "      <td>-0.882679</td>\n",
       "      <td>-0.469977</td>\n",
       "      <td>0.000000</td>\n",
       "      <td>1.000000</td>\n",
       "      <td>0.000</td>\n",
       "    </tr>\n",
       "    <tr>\n",
       "      <th>1</th>\n",
       "      <td>1</td>\n",
       "      <td>6.0</td>\n",
       "      <td>324.2</td>\n",
       "      <td>3</td>\n",
       "      <td>5</td>\n",
       "      <td>9</td>\n",
       "      <td>2021</td>\n",
       "      <td>-0.882679</td>\n",
       "      <td>-0.469977</td>\n",
       "      <td>0.000000</td>\n",
       "      <td>1.000000</td>\n",
       "      <td>136.281</td>\n",
       "    </tr>\n",
       "    <tr>\n",
       "      <th>2</th>\n",
       "      <td>0</td>\n",
       "      <td>6.0</td>\n",
       "      <td>324.2</td>\n",
       "      <td>3</td>\n",
       "      <td>5</td>\n",
       "      <td>9</td>\n",
       "      <td>2021</td>\n",
       "      <td>-0.882679</td>\n",
       "      <td>-0.469977</td>\n",
       "      <td>0.258819</td>\n",
       "      <td>0.965926</td>\n",
       "      <td>0.000</td>\n",
       "    </tr>\n",
       "    <tr>\n",
       "      <th>3</th>\n",
       "      <td>1</td>\n",
       "      <td>6.0</td>\n",
       "      <td>324.2</td>\n",
       "      <td>3</td>\n",
       "      <td>5</td>\n",
       "      <td>9</td>\n",
       "      <td>2021</td>\n",
       "      <td>-0.882679</td>\n",
       "      <td>-0.469977</td>\n",
       "      <td>0.258819</td>\n",
       "      <td>0.965926</td>\n",
       "      <td>145.417</td>\n",
       "    </tr>\n",
       "    <tr>\n",
       "      <th>4</th>\n",
       "      <td>0</td>\n",
       "      <td>6.0</td>\n",
       "      <td>324.2</td>\n",
       "      <td>3</td>\n",
       "      <td>5</td>\n",
       "      <td>9</td>\n",
       "      <td>2021</td>\n",
       "      <td>-0.882679</td>\n",
       "      <td>-0.469977</td>\n",
       "      <td>0.500000</td>\n",
       "      <td>0.866025</td>\n",
       "      <td>0.000</td>\n",
       "    </tr>\n",
       "    <tr>\n",
       "      <th>...</th>\n",
       "      <td>...</td>\n",
       "      <td>...</td>\n",
       "      <td>...</td>\n",
       "      <td>...</td>\n",
       "      <td>...</td>\n",
       "      <td>...</td>\n",
       "      <td>...</td>\n",
       "      <td>...</td>\n",
       "      <td>...</td>\n",
       "      <td>...</td>\n",
       "      <td>...</td>\n",
       "      <td>...</td>\n",
       "    </tr>\n",
       "    <tr>\n",
       "      <th>30515</th>\n",
       "      <td>1</td>\n",
       "      <td>17.0</td>\n",
       "      <td>540.0</td>\n",
       "      <td>31</td>\n",
       "      <td>3</td>\n",
       "      <td>5</td>\n",
       "      <td>2023</td>\n",
       "      <td>0.522133</td>\n",
       "      <td>-0.852864</td>\n",
       "      <td>-0.707107</td>\n",
       "      <td>0.707107</td>\n",
       "      <td>132.470</td>\n",
       "    </tr>\n",
       "    <tr>\n",
       "      <th>30516</th>\n",
       "      <td>0</td>\n",
       "      <td>17.0</td>\n",
       "      <td>540.0</td>\n",
       "      <td>31</td>\n",
       "      <td>3</td>\n",
       "      <td>5</td>\n",
       "      <td>2023</td>\n",
       "      <td>0.522133</td>\n",
       "      <td>-0.852864</td>\n",
       "      <td>-0.500000</td>\n",
       "      <td>0.866025</td>\n",
       "      <td>0.002</td>\n",
       "    </tr>\n",
       "    <tr>\n",
       "      <th>30517</th>\n",
       "      <td>1</td>\n",
       "      <td>17.0</td>\n",
       "      <td>540.0</td>\n",
       "      <td>31</td>\n",
       "      <td>3</td>\n",
       "      <td>5</td>\n",
       "      <td>2023</td>\n",
       "      <td>0.522133</td>\n",
       "      <td>-0.852864</td>\n",
       "      <td>-0.500000</td>\n",
       "      <td>0.866025</td>\n",
       "      <td>114.667</td>\n",
       "    </tr>\n",
       "    <tr>\n",
       "      <th>30518</th>\n",
       "      <td>0</td>\n",
       "      <td>17.0</td>\n",
       "      <td>540.0</td>\n",
       "      <td>31</td>\n",
       "      <td>3</td>\n",
       "      <td>5</td>\n",
       "      <td>2023</td>\n",
       "      <td>0.522133</td>\n",
       "      <td>-0.852864</td>\n",
       "      <td>-0.258819</td>\n",
       "      <td>0.965926</td>\n",
       "      <td>0.000</td>\n",
       "    </tr>\n",
       "    <tr>\n",
       "      <th>30519</th>\n",
       "      <td>1</td>\n",
       "      <td>17.0</td>\n",
       "      <td>540.0</td>\n",
       "      <td>31</td>\n",
       "      <td>3</td>\n",
       "      <td>5</td>\n",
       "      <td>2023</td>\n",
       "      <td>0.522133</td>\n",
       "      <td>-0.852864</td>\n",
       "      <td>-0.258819</td>\n",
       "      <td>0.965926</td>\n",
       "      <td>84.841</td>\n",
       "    </tr>\n",
       "  </tbody>\n",
       "</table>\n",
       "<p>30520 rows × 12 columns</p>\n",
       "</div>"
      ],
      "text/plain": [
       "       is_consumption  eic_count  installed_capacity  day  weekday  month  \\\n",
       "0                   0        6.0               324.2    3        5      9   \n",
       "1                   1        6.0               324.2    3        5      9   \n",
       "2                   0        6.0               324.2    3        5      9   \n",
       "3                   1        6.0               324.2    3        5      9   \n",
       "4                   0        6.0               324.2    3        5      9   \n",
       "...               ...        ...                 ...  ...      ...    ...   \n",
       "30515               1       17.0               540.0   31        3      5   \n",
       "30516               0       17.0               540.0   31        3      5   \n",
       "30517               1       17.0               540.0   31        3      5   \n",
       "30518               0       17.0               540.0   31        3      5   \n",
       "30519               1       17.0               540.0   31        3      5   \n",
       "\n",
       "       year  sin(dayofyear)  cos(dayofyear)  sin(hour)  cos(hour)   target  \n",
       "0      2021       -0.882679       -0.469977   0.000000   1.000000    0.000  \n",
       "1      2021       -0.882679       -0.469977   0.000000   1.000000  136.281  \n",
       "2      2021       -0.882679       -0.469977   0.258819   0.965926    0.000  \n",
       "3      2021       -0.882679       -0.469977   0.258819   0.965926  145.417  \n",
       "4      2021       -0.882679       -0.469977   0.500000   0.866025    0.000  \n",
       "...     ...             ...             ...        ...        ...      ...  \n",
       "30515  2023        0.522133       -0.852864  -0.707107   0.707107  132.470  \n",
       "30516  2023        0.522133       -0.852864  -0.500000   0.866025    0.002  \n",
       "30517  2023        0.522133       -0.852864  -0.500000   0.866025  114.667  \n",
       "30518  2023        0.522133       -0.852864  -0.258819   0.965926    0.000  \n",
       "30519  2023        0.522133       -0.852864  -0.258819   0.965926   84.841  \n",
       "\n",
       "[30520 rows x 12 columns]"
      ]
     },
     "execution_count": 35,
     "metadata": {},
     "output_type": "execute_result"
    }
   ],
   "source": [
    "df"
   ]
  },
  {
   "cell_type": "code",
   "execution_count": 36,
   "id": "a1284917-38f7-41f0-a1e4-bd3c6ab96c3f",
   "metadata": {},
   "outputs": [
    {
     "data": {
      "text/plain": [
       "Index(['is_consumption', 'eic_count', 'installed_capacity', 'day', 'weekday',\n",
       "       'month', 'year', 'sin(dayofyear)', 'cos(dayofyear)', 'sin(hour)',\n",
       "       'cos(hour)', 'target'],\n",
       "      dtype='object')"
      ]
     },
     "execution_count": 36,
     "metadata": {},
     "output_type": "execute_result"
    }
   ],
   "source": [
    "df.columns"
   ]
  },
  {
   "cell_type": "code",
   "execution_count": 37,
   "id": "1f4f2d1b-7f45-4cfb-8f08-e1efc3814aec",
   "metadata": {},
   "outputs": [],
   "source": [
    "features = [\n",
    "    'installed_capacity', \n",
    "    'day', \n",
    "    'weekday',\n",
    "    'month', \n",
    "    'year', \n",
    "    'sin(dayofyear)', \n",
    "    'cos(dayofyear)', \n",
    "    'sin(hour)',\n",
    "    'cos(hour)'\n",
    "]"
   ]
  },
  {
   "cell_type": "markdown",
   "id": "26b99df8-db9b-4289-a2f9-fd901a5cbc6d",
   "metadata": {},
   "source": [
    "### Energy production modeling"
   ]
  },
  {
   "cell_type": "code",
   "execution_count": 38,
   "id": "1eef2f6f-710d-4b1d-b18a-6e75d7c01ff6",
   "metadata": {},
   "outputs": [],
   "source": [
    "df_production = df.loc[df.is_consumption==0].drop(columns=\"is_consumption\").reset_index(drop=True)"
   ]
  },
  {
   "cell_type": "code",
   "execution_count": 39,
   "id": "f215dd01-38fe-4ea3-b8dc-8b012d970686",
   "metadata": {},
   "outputs": [
    {
     "data": {
      "text/html": [
       "<div>\n",
       "<style scoped>\n",
       "    .dataframe tbody tr th:only-of-type {\n",
       "        vertical-align: middle;\n",
       "    }\n",
       "\n",
       "    .dataframe tbody tr th {\n",
       "        vertical-align: top;\n",
       "    }\n",
       "\n",
       "    .dataframe thead th {\n",
       "        text-align: right;\n",
       "    }\n",
       "</style>\n",
       "<table border=\"1\" class=\"dataframe\">\n",
       "  <thead>\n",
       "    <tr style=\"text-align: right;\">\n",
       "      <th></th>\n",
       "      <th>eic_count</th>\n",
       "      <th>installed_capacity</th>\n",
       "      <th>day</th>\n",
       "      <th>weekday</th>\n",
       "      <th>month</th>\n",
       "      <th>year</th>\n",
       "      <th>sin(dayofyear)</th>\n",
       "      <th>cos(dayofyear)</th>\n",
       "      <th>sin(hour)</th>\n",
       "      <th>cos(hour)</th>\n",
       "      <th>target</th>\n",
       "    </tr>\n",
       "  </thead>\n",
       "  <tbody>\n",
       "    <tr>\n",
       "      <th>0</th>\n",
       "      <td>6.0</td>\n",
       "      <td>324.2</td>\n",
       "      <td>3</td>\n",
       "      <td>5</td>\n",
       "      <td>9</td>\n",
       "      <td>2021</td>\n",
       "      <td>-0.882679</td>\n",
       "      <td>-0.469977</td>\n",
       "      <td>0.000000</td>\n",
       "      <td>1.000000</td>\n",
       "      <td>0.000</td>\n",
       "    </tr>\n",
       "    <tr>\n",
       "      <th>1</th>\n",
       "      <td>6.0</td>\n",
       "      <td>324.2</td>\n",
       "      <td>3</td>\n",
       "      <td>5</td>\n",
       "      <td>9</td>\n",
       "      <td>2021</td>\n",
       "      <td>-0.882679</td>\n",
       "      <td>-0.469977</td>\n",
       "      <td>0.258819</td>\n",
       "      <td>0.965926</td>\n",
       "      <td>0.000</td>\n",
       "    </tr>\n",
       "    <tr>\n",
       "      <th>2</th>\n",
       "      <td>6.0</td>\n",
       "      <td>324.2</td>\n",
       "      <td>3</td>\n",
       "      <td>5</td>\n",
       "      <td>9</td>\n",
       "      <td>2021</td>\n",
       "      <td>-0.882679</td>\n",
       "      <td>-0.469977</td>\n",
       "      <td>0.500000</td>\n",
       "      <td>0.866025</td>\n",
       "      <td>0.000</td>\n",
       "    </tr>\n",
       "    <tr>\n",
       "      <th>3</th>\n",
       "      <td>6.0</td>\n",
       "      <td>324.2</td>\n",
       "      <td>3</td>\n",
       "      <td>5</td>\n",
       "      <td>9</td>\n",
       "      <td>2021</td>\n",
       "      <td>-0.882679</td>\n",
       "      <td>-0.469977</td>\n",
       "      <td>0.707107</td>\n",
       "      <td>0.707107</td>\n",
       "      <td>0.000</td>\n",
       "    </tr>\n",
       "    <tr>\n",
       "      <th>4</th>\n",
       "      <td>6.0</td>\n",
       "      <td>324.2</td>\n",
       "      <td>3</td>\n",
       "      <td>5</td>\n",
       "      <td>9</td>\n",
       "      <td>2021</td>\n",
       "      <td>-0.882679</td>\n",
       "      <td>-0.469977</td>\n",
       "      <td>0.866025</td>\n",
       "      <td>0.500000</td>\n",
       "      <td>0.000</td>\n",
       "    </tr>\n",
       "    <tr>\n",
       "      <th>...</th>\n",
       "      <td>...</td>\n",
       "      <td>...</td>\n",
       "      <td>...</td>\n",
       "      <td>...</td>\n",
       "      <td>...</td>\n",
       "      <td>...</td>\n",
       "      <td>...</td>\n",
       "      <td>...</td>\n",
       "      <td>...</td>\n",
       "      <td>...</td>\n",
       "      <td>...</td>\n",
       "    </tr>\n",
       "    <tr>\n",
       "      <th>15255</th>\n",
       "      <td>17.0</td>\n",
       "      <td>540.0</td>\n",
       "      <td>31</td>\n",
       "      <td>3</td>\n",
       "      <td>5</td>\n",
       "      <td>2023</td>\n",
       "      <td>0.522133</td>\n",
       "      <td>-0.852864</td>\n",
       "      <td>-0.965926</td>\n",
       "      <td>0.258819</td>\n",
       "      <td>9.685</td>\n",
       "    </tr>\n",
       "    <tr>\n",
       "      <th>15256</th>\n",
       "      <td>17.0</td>\n",
       "      <td>540.0</td>\n",
       "      <td>31</td>\n",
       "      <td>3</td>\n",
       "      <td>5</td>\n",
       "      <td>2023</td>\n",
       "      <td>0.522133</td>\n",
       "      <td>-0.852864</td>\n",
       "      <td>-0.866025</td>\n",
       "      <td>0.500000</td>\n",
       "      <td>3.365</td>\n",
       "    </tr>\n",
       "    <tr>\n",
       "      <th>15257</th>\n",
       "      <td>17.0</td>\n",
       "      <td>540.0</td>\n",
       "      <td>31</td>\n",
       "      <td>3</td>\n",
       "      <td>5</td>\n",
       "      <td>2023</td>\n",
       "      <td>0.522133</td>\n",
       "      <td>-0.852864</td>\n",
       "      <td>-0.707107</td>\n",
       "      <td>0.707107</td>\n",
       "      <td>0.379</td>\n",
       "    </tr>\n",
       "    <tr>\n",
       "      <th>15258</th>\n",
       "      <td>17.0</td>\n",
       "      <td>540.0</td>\n",
       "      <td>31</td>\n",
       "      <td>3</td>\n",
       "      <td>5</td>\n",
       "      <td>2023</td>\n",
       "      <td>0.522133</td>\n",
       "      <td>-0.852864</td>\n",
       "      <td>-0.500000</td>\n",
       "      <td>0.866025</td>\n",
       "      <td>0.002</td>\n",
       "    </tr>\n",
       "    <tr>\n",
       "      <th>15259</th>\n",
       "      <td>17.0</td>\n",
       "      <td>540.0</td>\n",
       "      <td>31</td>\n",
       "      <td>3</td>\n",
       "      <td>5</td>\n",
       "      <td>2023</td>\n",
       "      <td>0.522133</td>\n",
       "      <td>-0.852864</td>\n",
       "      <td>-0.258819</td>\n",
       "      <td>0.965926</td>\n",
       "      <td>0.000</td>\n",
       "    </tr>\n",
       "  </tbody>\n",
       "</table>\n",
       "<p>15260 rows × 11 columns</p>\n",
       "</div>"
      ],
      "text/plain": [
       "       eic_count  installed_capacity  day  weekday  month  year  \\\n",
       "0            6.0               324.2    3        5      9  2021   \n",
       "1            6.0               324.2    3        5      9  2021   \n",
       "2            6.0               324.2    3        5      9  2021   \n",
       "3            6.0               324.2    3        5      9  2021   \n",
       "4            6.0               324.2    3        5      9  2021   \n",
       "...          ...                 ...  ...      ...    ...   ...   \n",
       "15255       17.0               540.0   31        3      5  2023   \n",
       "15256       17.0               540.0   31        3      5  2023   \n",
       "15257       17.0               540.0   31        3      5  2023   \n",
       "15258       17.0               540.0   31        3      5  2023   \n",
       "15259       17.0               540.0   31        3      5  2023   \n",
       "\n",
       "       sin(dayofyear)  cos(dayofyear)  sin(hour)  cos(hour)  target  \n",
       "0           -0.882679       -0.469977   0.000000   1.000000   0.000  \n",
       "1           -0.882679       -0.469977   0.258819   0.965926   0.000  \n",
       "2           -0.882679       -0.469977   0.500000   0.866025   0.000  \n",
       "3           -0.882679       -0.469977   0.707107   0.707107   0.000  \n",
       "4           -0.882679       -0.469977   0.866025   0.500000   0.000  \n",
       "...               ...             ...        ...        ...     ...  \n",
       "15255        0.522133       -0.852864  -0.965926   0.258819   9.685  \n",
       "15256        0.522133       -0.852864  -0.866025   0.500000   3.365  \n",
       "15257        0.522133       -0.852864  -0.707107   0.707107   0.379  \n",
       "15258        0.522133       -0.852864  -0.500000   0.866025   0.002  \n",
       "15259        0.522133       -0.852864  -0.258819   0.965926   0.000  \n",
       "\n",
       "[15260 rows x 11 columns]"
      ]
     },
     "execution_count": 39,
     "metadata": {},
     "output_type": "execute_result"
    }
   ],
   "source": [
    "df_production"
   ]
  },
  {
   "cell_type": "code",
   "execution_count": 40,
   "id": "fe0bd482-02ea-4d7d-a829-0f1a97329279",
   "metadata": {},
   "outputs": [],
   "source": [
    "def split__train_val_test_sets(df):\n",
    "    df_full_train, df_test = train_test_split(df, test_size=0.2, random_state=11)\n",
    "    df_train, df_val = train_test_split(df_full_train, test_size=0.25, random_state=11)\n",
    "    \n",
    "    \n",
    "    df_train = df_train.reset_index(drop=True)\n",
    "    df_val = df_val.reset_index(drop=True)\n",
    "    df_test = df_test.reset_index(drop=True)\n",
    "    \n",
    "    y_train = df_train.target.values\n",
    "    y_val = df_val.target.values\n",
    "    y_test = df_test.target.values\n",
    "    \n",
    "    del df_train['target']\n",
    "    del df_val['target']\n",
    "    del df_test['target']\n",
    "    return df_train, df_test, df_val, y_train, y_test, y_val"
   ]
  },
  {
   "cell_type": "code",
   "execution_count": 41,
   "id": "975b5cbf-45cb-4106-97f9-6aed295e8868",
   "metadata": {},
   "outputs": [],
   "source": [
    "df_train, df_test, df_val, y_train, y_test, y_val = split__train_val_test_sets(df_production)"
   ]
  },
  {
   "cell_type": "code",
   "execution_count": 42,
   "id": "2ff913d3-2ee7-4448-a319-782f87877721",
   "metadata": {},
   "outputs": [
    {
     "data": {
      "text/html": [
       "<div>\n",
       "<style scoped>\n",
       "    .dataframe tbody tr th:only-of-type {\n",
       "        vertical-align: middle;\n",
       "    }\n",
       "\n",
       "    .dataframe tbody tr th {\n",
       "        vertical-align: top;\n",
       "    }\n",
       "\n",
       "    .dataframe thead th {\n",
       "        text-align: right;\n",
       "    }\n",
       "</style>\n",
       "<table border=\"1\" class=\"dataframe\">\n",
       "  <thead>\n",
       "    <tr style=\"text-align: right;\">\n",
       "      <th></th>\n",
       "      <th>eic_count</th>\n",
       "      <th>installed_capacity</th>\n",
       "      <th>day</th>\n",
       "      <th>weekday</th>\n",
       "      <th>month</th>\n",
       "      <th>year</th>\n",
       "      <th>sin(dayofyear)</th>\n",
       "      <th>cos(dayofyear)</th>\n",
       "      <th>sin(hour)</th>\n",
       "      <th>cos(hour)</th>\n",
       "    </tr>\n",
       "  </thead>\n",
       "  <tbody>\n",
       "    <tr>\n",
       "      <th>0</th>\n",
       "      <td>6.0</td>\n",
       "      <td>330.2</td>\n",
       "      <td>4</td>\n",
       "      <td>3</td>\n",
       "      <td>5</td>\n",
       "      <td>2022</td>\n",
       "      <td>0.848351</td>\n",
       "      <td>-0.529434</td>\n",
       "      <td>9.659258e-01</td>\n",
       "      <td>-2.588190e-01</td>\n",
       "    </tr>\n",
       "    <tr>\n",
       "      <th>1</th>\n",
       "      <td>18.0</td>\n",
       "      <td>645.2</td>\n",
       "      <td>22</td>\n",
       "      <td>4</td>\n",
       "      <td>12</td>\n",
       "      <td>2022</td>\n",
       "      <td>-0.170830</td>\n",
       "      <td>0.985301</td>\n",
       "      <td>7.071068e-01</td>\n",
       "      <td>-7.071068e-01</td>\n",
       "    </tr>\n",
       "    <tr>\n",
       "      <th>2</th>\n",
       "      <td>16.0</td>\n",
       "      <td>572.2</td>\n",
       "      <td>19</td>\n",
       "      <td>3</td>\n",
       "      <td>4</td>\n",
       "      <td>2023</td>\n",
       "      <td>0.955211</td>\n",
       "      <td>-0.295927</td>\n",
       "      <td>-7.071068e-01</td>\n",
       "      <td>7.071068e-01</td>\n",
       "    </tr>\n",
       "    <tr>\n",
       "      <th>3</th>\n",
       "      <td>18.0</td>\n",
       "      <td>645.2</td>\n",
       "      <td>26</td>\n",
       "      <td>6</td>\n",
       "      <td>11</td>\n",
       "      <td>2022</td>\n",
       "      <td>-0.579421</td>\n",
       "      <td>0.815028</td>\n",
       "      <td>-2.588190e-01</td>\n",
       "      <td>-9.659258e-01</td>\n",
       "    </tr>\n",
       "    <tr>\n",
       "      <th>4</th>\n",
       "      <td>6.0</td>\n",
       "      <td>324.2</td>\n",
       "      <td>25</td>\n",
       "      <td>4</td>\n",
       "      <td>11</td>\n",
       "      <td>2021</td>\n",
       "      <td>-0.593327</td>\n",
       "      <td>0.804962</td>\n",
       "      <td>-1.000000e+00</td>\n",
       "      <td>-1.836970e-16</td>\n",
       "    </tr>\n",
       "    <tr>\n",
       "      <th>...</th>\n",
       "      <td>...</td>\n",
       "      <td>...</td>\n",
       "      <td>...</td>\n",
       "      <td>...</td>\n",
       "      <td>...</td>\n",
       "      <td>...</td>\n",
       "      <td>...</td>\n",
       "      <td>...</td>\n",
       "      <td>...</td>\n",
       "      <td>...</td>\n",
       "    </tr>\n",
       "    <tr>\n",
       "      <th>9151</th>\n",
       "      <td>6.0</td>\n",
       "      <td>330.2</td>\n",
       "      <td>31</td>\n",
       "      <td>2</td>\n",
       "      <td>5</td>\n",
       "      <td>2022</td>\n",
       "      <td>0.522133</td>\n",
       "      <td>-0.852864</td>\n",
       "      <td>-7.071068e-01</td>\n",
       "      <td>-7.071068e-01</td>\n",
       "    </tr>\n",
       "    <tr>\n",
       "      <th>9152</th>\n",
       "      <td>8.0</td>\n",
       "      <td>388.7</td>\n",
       "      <td>3</td>\n",
       "      <td>7</td>\n",
       "      <td>7</td>\n",
       "      <td>2022</td>\n",
       "      <td>-0.017166</td>\n",
       "      <td>-0.999853</td>\n",
       "      <td>5.000000e-01</td>\n",
       "      <td>8.660254e-01</td>\n",
       "    </tr>\n",
       "    <tr>\n",
       "      <th>9153</th>\n",
       "      <td>6.0</td>\n",
       "      <td>324.2</td>\n",
       "      <td>1</td>\n",
       "      <td>2</td>\n",
       "      <td>3</td>\n",
       "      <td>2022</td>\n",
       "      <td>0.857315</td>\n",
       "      <td>0.514793</td>\n",
       "      <td>-7.071068e-01</td>\n",
       "      <td>7.071068e-01</td>\n",
       "    </tr>\n",
       "    <tr>\n",
       "      <th>9154</th>\n",
       "      <td>6.0</td>\n",
       "      <td>324.2</td>\n",
       "      <td>19</td>\n",
       "      <td>7</td>\n",
       "      <td>9</td>\n",
       "      <td>2021</td>\n",
       "      <td>-0.977064</td>\n",
       "      <td>-0.212947</td>\n",
       "      <td>1.224647e-16</td>\n",
       "      <td>-1.000000e+00</td>\n",
       "    </tr>\n",
       "    <tr>\n",
       "      <th>9155</th>\n",
       "      <td>15.0</td>\n",
       "      <td>505.2</td>\n",
       "      <td>4</td>\n",
       "      <td>2</td>\n",
       "      <td>10</td>\n",
       "      <td>2022</td>\n",
       "      <td>-0.999079</td>\n",
       "      <td>0.042905</td>\n",
       "      <td>8.660254e-01</td>\n",
       "      <td>5.000000e-01</td>\n",
       "    </tr>\n",
       "  </tbody>\n",
       "</table>\n",
       "<p>9156 rows × 10 columns</p>\n",
       "</div>"
      ],
      "text/plain": [
       "      eic_count  installed_capacity  day  weekday  month  year  \\\n",
       "0           6.0               330.2    4        3      5  2022   \n",
       "1          18.0               645.2   22        4     12  2022   \n",
       "2          16.0               572.2   19        3      4  2023   \n",
       "3          18.0               645.2   26        6     11  2022   \n",
       "4           6.0               324.2   25        4     11  2021   \n",
       "...         ...                 ...  ...      ...    ...   ...   \n",
       "9151        6.0               330.2   31        2      5  2022   \n",
       "9152        8.0               388.7    3        7      7  2022   \n",
       "9153        6.0               324.2    1        2      3  2022   \n",
       "9154        6.0               324.2   19        7      9  2021   \n",
       "9155       15.0               505.2    4        2     10  2022   \n",
       "\n",
       "      sin(dayofyear)  cos(dayofyear)     sin(hour)     cos(hour)  \n",
       "0           0.848351       -0.529434  9.659258e-01 -2.588190e-01  \n",
       "1          -0.170830        0.985301  7.071068e-01 -7.071068e-01  \n",
       "2           0.955211       -0.295927 -7.071068e-01  7.071068e-01  \n",
       "3          -0.579421        0.815028 -2.588190e-01 -9.659258e-01  \n",
       "4          -0.593327        0.804962 -1.000000e+00 -1.836970e-16  \n",
       "...              ...             ...           ...           ...  \n",
       "9151        0.522133       -0.852864 -7.071068e-01 -7.071068e-01  \n",
       "9152       -0.017166       -0.999853  5.000000e-01  8.660254e-01  \n",
       "9153        0.857315        0.514793 -7.071068e-01  7.071068e-01  \n",
       "9154       -0.977064       -0.212947  1.224647e-16 -1.000000e+00  \n",
       "9155       -0.999079        0.042905  8.660254e-01  5.000000e-01  \n",
       "\n",
       "[9156 rows x 10 columns]"
      ]
     },
     "execution_count": 42,
     "metadata": {},
     "output_type": "execute_result"
    }
   ],
   "source": [
    "df_train"
   ]
  },
  {
   "cell_type": "code",
   "execution_count": 43,
   "id": "66013677-d41a-48cd-9146-0d35da710e02",
   "metadata": {},
   "outputs": [],
   "source": [
    "X_train = df_train[features]\n",
    "X_val = df_val[features]\n",
    "X_test = df_test[features]"
   ]
  },
  {
   "cell_type": "code",
   "execution_count": 44,
   "id": "87111618-5cf9-486f-a8de-a51ec693a464",
   "metadata": {},
   "outputs": [
    {
     "name": "stdout",
     "output_type": "stream",
     "text": [
      "[ 4.66632143e+02  1.58368283e+01  4.01769332e+00  6.42944517e+00\n",
      "  2.02205352e+03  3.21542989e-02  1.23755677e-01 -6.24690105e-04\n",
      "  2.35722978e-03]\n"
     ]
    }
   ],
   "source": [
    "scaler = StandardScaler()\n",
    "scaler.fit(X_train)\n",
    "print(scaler.mean_)"
   ]
  },
  {
   "cell_type": "code",
   "execution_count": 45,
   "id": "631fe610-1fc8-4cf0-a600-ff2a5a70df25",
   "metadata": {},
   "outputs": [],
   "source": [
    "X_train_scaled = scaler.transform(X_train)"
   ]
  },
  {
   "cell_type": "markdown",
   "id": "bd754a50-8dad-4293-813c-4148ebc99dd5",
   "metadata": {},
   "source": [
    "### Neural Network"
   ]
  },
  {
   "cell_type": "markdown",
   "id": "4b3e8fbb-6332-4dd2-8c20-1e576af11078",
   "metadata": {},
   "source": [
    "https://machinelearningmastery.com/how-to-choose-loss-functions-when-training-deep-learning-neural-networks/"
   ]
  },
  {
   "cell_type": "code",
   "execution_count": 87,
   "id": "66ffdafc-9812-457c-a01c-097b0a3f9a17",
   "metadata": {},
   "outputs": [],
   "source": [
    "def get_model(n_inputs, n_outputs):\n",
    "    model = Sequential()\n",
    "    model.add(Dense(64, input_dim=n_inputs, kernel_initializer='he_uniform', activation='relu'))\n",
    "    model.add(Dense(32, input_dim=64, kernel_initializer='he_uniform', activation='relu'))\n",
    "    model.add(Dense(n_outputs, activation='relu'))\n",
    "    model.compile(loss='mean_squared_error', optimizer='adam', metrics=['mse'])\n",
    "    return model\n",
    "\n",
    "n_features = len(features)\n",
    "\n",
    "model = get_model(X_train_scaled.shape[1], 1)"
   ]
  },
  {
   "cell_type": "code",
   "execution_count": 88,
   "id": "02d20766-0dc7-4e91-9d81-01e312b775d4",
   "metadata": {},
   "outputs": [
    {
     "name": "stdout",
     "output_type": "stream",
     "text": [
      "Model: \"sequential_4\"\n",
      "_________________________________________________________________\n",
      " Layer (type)                Output Shape              Param #   \n",
      "=================================================================\n",
      " dense_12 (Dense)            (None, 64)                640       \n",
      "                                                                 \n",
      " dense_13 (Dense)            (None, 32)                2080      \n",
      "                                                                 \n",
      " dense_14 (Dense)            (None, 1)                 33        \n",
      "                                                                 \n",
      "=================================================================\n",
      "Total params: 2753 (10.75 KB)\n",
      "Trainable params: 2753 (10.75 KB)\n",
      "Non-trainable params: 0 (0.00 Byte)\n",
      "_________________________________________________________________\n"
     ]
    }
   ],
   "source": [
    "model.summary()"
   ]
  },
  {
   "cell_type": "code",
   "execution_count": 89,
   "id": "5f1a4dd1-57a2-4614-ab4c-8d4b3e8615fe",
   "metadata": {},
   "outputs": [
    {
     "name": "stdout",
     "output_type": "stream",
     "text": [
      "Epoch 1/8\n",
      "9/9 [==============================] - 1s 3ms/step - loss: 704.0007 - mse: 704.0007\n",
      "Epoch 2/8\n",
      "9/9 [==============================] - 0s 3ms/step - loss: 681.7499 - mse: 681.7499\n",
      "Epoch 3/8\n",
      "9/9 [==============================] - 0s 2ms/step - loss: 659.7860 - mse: 659.7860\n",
      "Epoch 4/8\n",
      "9/9 [==============================] - 0s 3ms/step - loss: 636.8485 - mse: 636.8485\n",
      "Epoch 5/8\n",
      "9/9 [==============================] - 0s 3ms/step - loss: 612.7253 - mse: 612.7253\n",
      "Epoch 6/8\n",
      "9/9 [==============================] - 0s 3ms/step - loss: 587.0644 - mse: 587.0644\n",
      "Epoch 7/8\n",
      "9/9 [==============================] - 0s 3ms/step - loss: 558.1625 - mse: 558.1625\n",
      "Epoch 8/8\n",
      "9/9 [==============================] - 0s 3ms/step - loss: 528.9858 - mse: 528.9858\n"
     ]
    }
   ],
   "source": [
    "history = model.fit(\n",
    "    X_train_scaled,\n",
    "    y_train,\n",
    "    batch_size=1024,\n",
    "    epochs=8,\n",
    "#     validation_data=(X_train_scaled, y_train)\n",
    ")"
   ]
  },
  {
   "cell_type": "markdown",
   "id": "182556f6-45c4-45d6-9227-13e500c698d2",
   "metadata": {},
   "source": [
    "### Test"
   ]
  },
  {
   "cell_type": "code",
   "execution_count": 90,
   "id": "bbf4332d-ffd4-4013-bf2e-f4a1a9848a1d",
   "metadata": {},
   "outputs": [],
   "source": [
    "X_test_scaled = scaler.transform(X_test)"
   ]
  },
  {
   "cell_type": "code",
   "execution_count": 91,
   "id": "ca68c74a-fc39-47ec-b594-e7ed51acd46c",
   "metadata": {},
   "outputs": [
    {
     "name": "stdout",
     "output_type": "stream",
     "text": [
      "96/96 [==============================] - 0s 1ms/step\n"
     ]
    }
   ],
   "source": [
    "predictions = model.predict(X_test_scaled)"
   ]
  },
  {
   "cell_type": "code",
   "execution_count": 92,
   "id": "c1cdff36-947c-4294-a4b3-915f24121afe",
   "metadata": {},
   "outputs": [],
   "source": [
    "def add_predictions(df,predictions):\n",
    "    df[\"prediction\"] = predictions\n",
    "    return df"
   ]
  },
  {
   "cell_type": "code",
   "execution_count": 93,
   "id": "2f65165a-050c-4a99-ab08-4b2c1a167161",
   "metadata": {},
   "outputs": [
    {
     "data": {
      "text/plain": [
       "array([[8.450582 ],\n",
       "       [0.       ],\n",
       "       [4.576785 ],\n",
       "       ...,\n",
       "       [5.8352723],\n",
       "       [2.195039 ],\n",
       "       [0.       ]], dtype=float32)"
      ]
     },
     "execution_count": 93,
     "metadata": {},
     "output_type": "execute_result"
    }
   ],
   "source": [
    "predictions"
   ]
  },
  {
   "cell_type": "code",
   "execution_count": 94,
   "id": "3b769608-f0a7-4ae3-a922-fcda7ab19640",
   "metadata": {},
   "outputs": [],
   "source": [
    "y_pred = predictions.reshape(-1)"
   ]
  },
  {
   "cell_type": "code",
   "execution_count": 95,
   "id": "11ff4ba3-7f4d-4507-99a4-fc61a205352d",
   "metadata": {},
   "outputs": [],
   "source": [
    "rng = np.random.RandomState(10)\n",
    "a = np.hstack((rng.normal(size=1000),\n",
    "               rng.normal(loc=5, scale=2, size=1000)))"
   ]
  },
  {
   "cell_type": "code",
   "execution_count": 96,
   "id": "9616a36e-27a2-48bc-a1e0-a8e7a070050f",
   "metadata": {},
   "outputs": [
    {
     "data": {
      "text/plain": [
       "array([ 1.3315865 ,  0.71527897, -1.54540029, ...,  5.74446677,\n",
       "        6.22449239,  8.42055014])"
      ]
     },
     "execution_count": 96,
     "metadata": {},
     "output_type": "execute_result"
    }
   ],
   "source": [
    "a"
   ]
  },
  {
   "cell_type": "code",
   "execution_count": 114,
   "id": "92573d6d-2e89-4a61-a87d-cf637c80b526",
   "metadata": {},
   "outputs": [
    {
     "data": {
      "image/png": "[encoded data removed]",
      "text/plain": [
       "<Figure size 1100x700 with 1 Axes>"
      ]
     },
     "metadata": {},
     "output_type": "display_data"
    }
   ],
   "source": [
    "plt.figure(figsize=(11,7))\n",
    "_ = plt.hist(y_test, bins='auto', alpha=0.7, label=\"true\")  # arguments are passed to np.histogram\n",
    "_ = plt.hist(y_pred, bins='auto', alpha=0.7, label=\"predictions\")  # arguments are passed to np.histogram\n",
    "# plt.title(\"Histogram with 'auto' bins\")\n",
    "# plt.show()\n",
    "plt.title(\"Histogram with 'auto' bins\")\n",
    "plt.xlim([0, 100])\n",
    "plt.ylim([0, 1000])\n",
    "plt.legend()\n",
    "plt.show()"
   ]
  },
  {
   "cell_type": "code",
   "execution_count": 118,
   "id": "cd80c1fd-a4d3-4011-8d74-9b7334885d16",
   "metadata": {},
   "outputs": [
    {
     "data": {
      "text/plain": [
       "21.916058"
      ]
     },
     "execution_count": 118,
     "metadata": {},
     "output_type": "execute_result"
    }
   ],
   "source": [
    "y_pred.max()"
   ]
  },
  {
   "cell_type": "markdown",
   "id": "a600b26f-764b-4f41-a26e-4e7903abb0e7",
   "metadata": {},
   "source": [
    "### Summary\n",
    "- Our predictions are less spread than real values - they are between 0 and 22.\n",
    "- However, we predict more values to be above 0 that were 0s in reality.\n",
    "##### Next steps:\n",
    "- We should add more features to better discriminate the predictions."
   ]
  },
  {
   "cell_type": "code",
   "execution_count": 100,
   "id": "8ebaddb0-bbdc-4357-9c78-2ef223494f4b",
   "metadata": {},
   "outputs": [
    {
     "data": {
      "text/plain": [
       "484.2249529858072"
      ]
     },
     "execution_count": 100,
     "metadata": {},
     "output_type": "execute_result"
    }
   ],
   "source": [
    "from sklearn.metrics import mean_squared_error\n",
    "mse = mean_squared_error(y_pred, y_test)\n",
    "mse"
   ]
  },
  {
   "cell_type": "code",
   "execution_count": 115,
   "id": "7d878203-64b2-4623-8281-e7460e43be90",
   "metadata": {},
   "outputs": [
    {
     "data": {
      "text/plain": [
       "9.85657372214941"
      ]
     },
     "execution_count": 115,
     "metadata": {},
     "output_type": "execute_result"
    }
   ],
   "source": [
    "y_test.mean()"
   ]
  },
  {
   "cell_type": "code",
   "execution_count": 117,
   "id": "b017f529-0a2a-4eaa-bdc9-5b810d2b5bc7",
   "metadata": {},
   "outputs": [
    {
     "data": {
      "text/plain": [
       "7.7793818"
      ]
     },
     "execution_count": 117,
     "metadata": {},
     "output_type": "execute_result"
    }
   ],
   "source": [
    "y_pred.mean()"
   ]
  },
  {
   "cell_type": "code",
   "execution_count": null,
   "id": "967b3608-847f-487a-9f1f-b27aeba31ae8",
   "metadata": {},
   "outputs": [],
   "source": []
  }
 ],
 "metadata": {
  "kernelspec": {
   "display_name": "Python 3 (ipykernel)",
   "language": "python",
   "name": "python3"
  },
  "language_info": {
   "codemirror_mode": {
    "name": "ipython",
    "version": 3
   },
   "file_extension": ".py",
   "mimetype": "text/x-python",
   "name": "python",
   "nbconvert_exporter": "python",
   "pygments_lexer": "ipython3",
   "version": "3.11.5"
  }
 },
 "nbformat": 4,
 "nbformat_minor": 5
}
